{
 "cells": [
  {
   "cell_type": "markdown",
   "metadata": {
    "collapsed": true
   },
   "source": [
    "# A New Restaurant in Atlanta"
   ]
  },
  {
   "cell_type": "markdown",
   "metadata": {},
   "source": [
    "## Introduction to the problem"
   ]
  },
  {
   "cell_type": "markdown",
   "metadata": {},
   "source": [
    "Atlanta is the 9th most-popolous metropolitan area in the United States and is home to a diverse collection of people, activities, locations, and, of course, food. Heralded as \"The Empire City of the South\", Atlanta has over 6 million people who call it home and several Fortune 500 companies who are headquartered in it. Everyone has to eat, and there are thousands of restaurants within Atlanta. In this project we will explore possible locations to build a new Mexican Restaurant within Atlanta. We will consider such features as demographics, crime data, and neighborhoods among other features. "
   ]
  },
  {
   "cell_type": "markdown",
   "metadata": {},
   "source": [
    "## Data"
   ]
  },
  {
   "cell_type": "markdown",
   "metadata": {},
   "source": [
    "##### Crime Data\n",
    "We will be using data from the Atlanta Police Department for Crime Data. You can find that here: https://www.atlantapd.org/Home/ShowDocument?id=3051\n",
    "\n",
    "##### Demographic Data\n",
    "We will be using Demographic data from United States Zipcodes. You can find that data here: https://www.unitedstateszipcodes.org/zip_code_database.csv?download_auth=7bc3889ca4f6c6c68315bd758baa857c\n",
    "\n",
    "This data will help us refine our search to just Atlanta as well as maybe find different neighborhoods within Atlanta.\n",
    "\n",
    "We may also employ data from the census in this project\n",
    "\n",
    "##### Restaurant Data\n",
    "Restaurant Data will come from Foursquare using their API in this Python Notebook."
   ]
  },
  {
   "cell_type": "code",
   "execution_count": null,
   "metadata": {},
   "outputs": [],
   "source": []
  }
 ],
 "metadata": {
  "kernelspec": {
   "display_name": "Python 3.7",
   "language": "python",
   "name": "python3"
  },
  "language_info": {
   "codemirror_mode": {
    "name": "ipython",
    "version": 3
   },
   "file_extension": ".py",
   "mimetype": "text/x-python",
   "name": "python",
   "nbconvert_exporter": "python",
   "pygments_lexer": "ipython3",
   "version": "3.7.10"
  }
 },
 "nbformat": 4,
 "nbformat_minor": 1
}
